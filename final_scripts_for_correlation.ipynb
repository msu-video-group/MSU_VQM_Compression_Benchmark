{
 "cells": [
  {
   "cell_type": "markdown",
   "metadata": {},
   "source": [
    "# Dataset Open Part Results Reproduction for Paper\n",
    "## \"Video compression dataset and benchmark of learning-based video-quality metrics\""
   ]
  },
  {
   "cell_type": "code",
   "execution_count": 1,
   "metadata": {},
   "outputs": [],
   "source": [
    "import numpy as np\n",
    "import pandas as pd\n",
    "import matplotlib.pyplot as plt\n",
    "import seaborn as sns\n",
    "import tqdm\n",
    "from statsmodels.stats.weightstats import DescrStatsW\n",
    "import matplotlib.patches as mpatches\n",
    "import matplotlib.pyplot as plt\n",
    "from matplotlib.legend import Legend\n",
    "import json\n",
    "import scipy.stats as stats"
   ]
  },
  {
   "cell_type": "code",
   "execution_count": 2,
   "metadata": {},
   "outputs": [],
   "source": [
    "df = pd.read_csv('metric_scores_open.csv')  # read dataframe with metrics data\n",
    "with open(\"content_categories.json\") as f:\n",
    "    cat_dict = json.load(f) # read dict with \"content category\"-\"list of corresponding videos\" mapping "
   ]
  },
  {
   "cell_type": "markdown",
   "metadata": {},
   "source": [
    "### Table with correlation coefficients for each samples group creation"
   ]
  },
  {
   "cell_type": "markdown",
   "metadata": {},
   "source": [
    "### (!) Note that single codecs and bitrate ranges are available only for the full dataset"
   ]
  },
  {
   "cell_type": "code",
   "execution_count": 3,
   "metadata": {
    "scrolled": false
   },
   "outputs": [
    {
     "name": "stdout",
     "output_type": "stream",
     "text": [
      "2021 Comparison\n"
     ]
    },
    {
     "name": "stderr",
     "output_type": "stream",
     "text": [
      "100%|██████████| 14/14 [00:00<00:00, 20.08it/s]\n"
     ]
    },
    {
     "name": "stdout",
     "output_type": "stream",
     "text": [
      "2019 Comparison\n"
     ]
    },
    {
     "name": "stderr",
     "output_type": "stream",
     "text": [
      "100%|██████████| 5/5 [00:00<00:00, 38.31it/s]\n"
     ]
    },
    {
     "name": "stdout",
     "output_type": "stream",
     "text": [
      "2020 Comparison\n"
     ]
    },
    {
     "name": "stderr",
     "output_type": "stream",
     "text": [
      "100%|██████████| 7/7 [00:00<00:00, 22.17it/s]\n"
     ]
    },
    {
     "name": "stdout",
     "output_type": "stream",
     "text": [
      "ugc Comparison\n"
     ]
    },
    {
     "name": "stderr",
     "output_type": "stream",
     "text": [
      "100%|██████████| 10/10 [00:00<00:00, 42.69it/s]\n"
     ]
    }
   ],
   "source": [
    "# choose compression standards\n",
    "codec_list = ['all'] #['all', 'h265', 'av1', 'vvc'] - for full (open + hidden parts) dataset\n",
    "\n",
    "#choose bitrate categories\n",
    "bit_cat_dict = ['all'] #['all', 'high', 'low'] - for full (open + hidden parts) dataset\n",
    "\n",
    "corrs = pd.DataFrame(columns=['corr', 'sample_size'] + list(df.columns[8:-1]))\n",
    "for comp in ['2021','2019','2020','ugc']:\n",
    "    print(comp, 'Comparison')\n",
    "\n",
    "    _df = df[df.comparison == comp]\n",
    "    for seq in tqdm.tqdm(_df.sequence.unique()):\n",
    "\n",
    "        for preset in _df.preset.unique():\n",
    "            for codec in codec_list: \n",
    "                for cat in bit_cat_dict: \n",
    "                    \n",
    "                    flt = ((df.comparison == comp) & (df.sequence == seq) & (df.preset == preset))\n",
    "                    if cat != 'all':\n",
    "                        flt = flt & (df['bitrate'] == cat)\n",
    "                    if codec != 'all':\n",
    "                        flt = flt & (df['standard'] == codec)\n",
    "                    \n",
    "                    subj = df[flt]\n",
    "                    \n",
    "                    if (subj.shape[0] < 3):\n",
    "                        continue\n",
    "                    for corr in ['spearman', 'kendall']:\n",
    "                        if (corr == 'kendall'):\n",
    "                            temp = dict()\n",
    "                            for col in list(dct.keys())[7:]:\n",
    "                                \n",
    "                                # Pandas KROCC implementation isn't stable\n",
    "                                # in the presence of duplicates\n",
    "                                \n",
    "                                temp[col] = stats.kendalltau(subj[col], \n",
    "                                                             subj['Subjective score'])[0]\n",
    "                                dct = {\n",
    "                                    'comparison': str(comp),\n",
    "                                    'sequence': seq,\n",
    "                                    'preset': preset,\n",
    "                                    'corr': corr,\n",
    "                                    'standard': codec,\n",
    "                                    'bitrate' : cat,\n",
    "                                    'sample_size': subj.shape[0],\n",
    "                                    **temp\n",
    "\n",
    "                                }\n",
    "                        else:\n",
    "                            \n",
    "                            dct = {\n",
    "                                'comparison': str(comp),\n",
    "                                'sequence': seq,\n",
    "                                'preset': preset,\n",
    "                                'corr': corr,\n",
    "                                'standard': codec,\n",
    "                                'bitrate' : cat,\n",
    "                                'sample_size': subj.shape[0],\n",
    "                                **subj.corr(method=corr)['Subjective score']\n",
    "\n",
    "                            }\n",
    "                 \n",
    "                        corrs = corrs.append(dct, ignore_index=True)"
   ]
  },
  {
   "cell_type": "markdown",
   "metadata": {},
   "source": [
    "### Mean and confidence intervals computing "
   ]
  },
  {
   "cell_type": "code",
   "execution_count": 4,
   "metadata": {},
   "outputs": [],
   "source": [
    "def weigh_func(col, weights, mode='mean'):\n",
    "    st = DescrStatsW(col, weights=weights)\n",
    "    l = st.mean - 1.96 * st.std_mean\n",
    "    \n",
    "    u = st.mean + 1.96 * st.std_mean\n",
    "    if st.mean > 0:\n",
    "        l = np.clip(l, 0, np.arctanh(0.99999))\n",
    "        u = np.clip(u, 0, np.arctanh(0.99999))\n",
    "    else:\n",
    "        t = u\n",
    "        u = np.clip(l, -np.arctanh(0.99999), 0)\n",
    "        l = np.clip(t, -np.arctanh(0.99999), 0)\n",
    "\n",
    "    if mode == 'mean':\n",
    "        return st.mean\n",
    "    elif mode == '-se':\n",
    "        return l\n",
    "    elif mode == '+se':\n",
    "        return u\n",
    "    else:\n",
    "        raise ValueError('Unknown mode')"
   ]
  },
  {
   "cell_type": "markdown",
   "metadata": {},
   "source": [
    "### Our dataset subsets which were presented in the paper"
   ]
  },
  {
   "cell_type": "markdown",
   "metadata": {},
   "source": [
    "### (!) Note that only \"FULL DATASET\" is available for the open part"
   ]
  },
  {
   "cell_type": "code",
   "execution_count": 5,
   "metadata": {},
   "outputs": [],
   "source": [
    "pools = dict()\n",
    "pools[\"FULL DATASET\"] = ('all', 'all','all',cat_dict[\"FULL DATASET\"])\n",
    "pools[\"LOW BITRATE\"] = ('all', 'low','all',cat_dict[\"FULL DATASET\"])\n",
    "pools[\"HIGHT BITRATE\"] = ('all', 'high','all',cat_dict[\"FULL DATASET\"])\n",
    "pools[\"H.265\"] = ('all', 'all','h265',cat_dict[\"FULL DATASET\"])\n",
    "pools[\"AV1\"] = ('all', 'all','h265',cat_dict[\"FULL DATASET\"])\n",
    "pools[\"VVC\"] = ('all', 'all','av1',cat_dict[\"FULL DATASET\"])\n",
    "pools[\"H.265\"] = ('all', 'all','vvc',cat_dict[\"FULL DATASET\"])\n",
    "pools[\"UGC\"] = ('ugc','all','all', cat_dict[\"FULL DATASET\"])\n",
    "pools[\"SHAKING\"] = ('all','all','all', cat_dict[\"shaking\"])\n",
    "pools[\"SPORTS\"] = ('all','all','all', cat_dict[\"sports\"])\n",
    "pools[\"NATURE\"] = ('all','all','all', cat_dict[\"nature\"])\n",
    "pools[\"GAMING and ANIMATION\"] = ('all','all','all', cat_dict[\"gaming_animation\"])"
   ]
  },
  {
   "cell_type": "markdown",
   "metadata": {},
   "source": [
    "### Correlation options choice"
   ]
  },
  {
   "cell_type": "markdown",
   "metadata": {},
   "source": [
    "# =============================================================="
   ]
  },
  {
   "cell_type": "code",
   "execution_count": 6,
   "metadata": {},
   "outputs": [],
   "source": [
    "corr = 'spearman' #, 'kendall'\n",
    "pool = pools[\"FULL DATASET\"]"
   ]
  },
  {
   "cell_type": "markdown",
   "metadata": {},
   "source": [
    "# =============================================================="
   ]
  },
  {
   "cell_type": "markdown",
   "metadata": {},
   "source": [
    "### Final results generation"
   ]
  },
  {
   "cell_type": "code",
   "execution_count": 7,
   "metadata": {},
   "outputs": [
    {
     "name": "stderr",
     "output_type": "stream",
     "text": [
      "/Users/maxim/opt/anaconda3/lib/python3.8/site-packages/pandas/core/arraylike.py:364: RuntimeWarning: divide by zero encountered in arctanh\n",
      "  result = getattr(ufunc, method)(*inputs, **kwargs)\n"
     ]
    }
   ],
   "source": [
    "comp, cat, codec, seq = pool\n",
    "preset = 'all'\n",
    "\n",
    "min_samples_srocc = 15\n",
    "min_samples_krocc = 15\n",
    "cols = corrs.columns[3:-6]\n",
    "\n",
    "if (corr == \"spearman\"):\n",
    "    min_samples = min_samples_srocc\n",
    "else:\n",
    "    min_samples = min_samples_krocc\n",
    "\n",
    "flt = (corrs['corr'] == corr)\n",
    "\n",
    "if type(comp) is list:\n",
    "    flt = flt & (corrs.comparison.isin(comp))\n",
    "elif comp != 'all':\n",
    "    flt = flt & (corrs.comparison == comp)\n",
    "\n",
    "if type(cat) is list:\n",
    "    flt = flt & (corrs.bitrate.isin(cat))\n",
    "else:\n",
    "    flt = flt & (corrs.bitrate == cat)\n",
    "\n",
    "if type(seq) is list:\n",
    "    flt = flt & (corrs.sequence.isin(seq))\n",
    "elif seq != 'all':\n",
    "    flt = flt & (corrs.sequence == seq)\n",
    "\n",
    "if type(codec) is list:\n",
    "    flt = flt & (corrs.standard.isin(codec))\n",
    "else:\n",
    "    flt = flt & (corrs.standard == codec)\n",
    "\n",
    "if type(preset) is list:\n",
    "    flt = flt & (corrs.preset.isin(preset))\n",
    "elif preset != 'all':\n",
    "    flt = flt & (corrs.preset == preset)\n",
    "\n",
    "flt = flt & (corrs.sample_size >= min_samples)\n",
    "\n",
    "\n",
    "d_mean_correlation = (corrs[flt][cols].apply(lambda x: np.arctanh(x)).replace([np.inf, -np.inf], [np.arctanh(0.99), np.arctanh(-0.99)])\\\n",
    ".apply(lambda x: weigh_func(x, corrs[flt]['sample_size'], 'mean')))\\\n",
    ".apply(lambda x: np.tanh(x)).abs().replace([0.99], 1).sort_values(ascending=False)\n",
    "\n",
    "d_ci_lower_bound = (corrs[flt][cols].apply(lambda x: np.arctanh(x)).replace([np.inf, -np.inf], [np.arctanh(0.99), np.arctanh(-0.99)])\\\n",
    ".apply(lambda x: weigh_func(x, corrs[flt]['sample_size'], '-se')))\\\n",
    ".apply(lambda x: np.tanh(x)).abs().replace([0.99], 1).sort_values(ascending=False)\n",
    "\n",
    "d_ci_upper_bound = (corrs[flt][cols].apply(lambda x: np.arctanh(x)).replace([np.inf, -np.inf], [np.arctanh(0.99), np.arctanh(-0.99)])\\\n",
    ".apply(lambda x: weigh_func(x, corrs[flt]['sample_size'], '+se')))\\\n",
    ".apply(lambda x: np.tanh(x)).abs().replace([0.99], 1).sort_values(ascending=False)"
   ]
  },
  {
   "cell_type": "code",
   "execution_count": 8,
   "metadata": {},
   "outputs": [],
   "source": [
    "d_final_correlation = pd.concat([d_ci_lower_bound, d_mean_correlation, d_ci_upper_bound], axis=1).reset_index()\n",
    "d_final_correlation.columns = [\"Metric\", \"CI Lower Bound\", \"Mean \"+ corr[0].upper() + corr[1:] + \" Correlation\", \"CI Upper Bound\"]"
   ]
  },
  {
   "cell_type": "code",
   "execution_count": 9,
   "metadata": {
    "scrolled": false
   },
   "outputs": [
    {
     "data": {
      "text/html": [
       "<div>\n",
       "<style scoped>\n",
       "    .dataframe tbody tr th:only-of-type {\n",
       "        vertical-align: middle;\n",
       "    }\n",
       "\n",
       "    .dataframe tbody tr th {\n",
       "        vertical-align: top;\n",
       "    }\n",
       "\n",
       "    .dataframe thead th {\n",
       "        text-align: right;\n",
       "    }\n",
       "</style>\n",
       "<table border=\"1\" class=\"dataframe\">\n",
       "  <thead>\n",
       "    <tr style=\"text-align: right;\">\n",
       "      <th></th>\n",
       "      <th>Metric</th>\n",
       "      <th>CI Lower Bound</th>\n",
       "      <th>Mean Spearman Correlation</th>\n",
       "      <th>CI Upper Bound</th>\n",
       "    </tr>\n",
       "  </thead>\n",
       "  <tbody>\n",
       "    <tr>\n",
       "      <th>0</th>\n",
       "      <td>Subjective score</td>\n",
       "      <td>1.000000</td>\n",
       "      <td>1.000000</td>\n",
       "      <td>1.000000</td>\n",
       "    </tr>\n",
       "    <tr>\n",
       "      <th>1</th>\n",
       "      <td>FR YUV-PSNR</td>\n",
       "      <td>0.946132</td>\n",
       "      <td>0.949262</td>\n",
       "      <td>0.952214</td>\n",
       "    </tr>\n",
       "    <tr>\n",
       "      <th>2</th>\n",
       "      <td>FR YUV-VMAF (v061)</td>\n",
       "      <td>0.945291</td>\n",
       "      <td>0.948397</td>\n",
       "      <td>0.951330</td>\n",
       "    </tr>\n",
       "    <tr>\n",
       "      <th>3</th>\n",
       "      <td>FR YUV-SSIM</td>\n",
       "      <td>0.944828</td>\n",
       "      <td>0.948206</td>\n",
       "      <td>0.951383</td>\n",
       "    </tr>\n",
       "    <tr>\n",
       "      <th>4</th>\n",
       "      <td>FR YUV-VMAF NEG</td>\n",
       "      <td>0.944093</td>\n",
       "      <td>0.947092</td>\n",
       "      <td>0.949934</td>\n",
       "    </tr>\n",
       "    <tr>\n",
       "      <th>5</th>\n",
       "      <td>FR Y-VMAF NEG</td>\n",
       "      <td>0.942312</td>\n",
       "      <td>0.945169</td>\n",
       "      <td>0.947888</td>\n",
       "    </tr>\n",
       "    <tr>\n",
       "      <th>6</th>\n",
       "      <td>FR Y-VMAF (v061)</td>\n",
       "      <td>0.942036</td>\n",
       "      <td>0.944856</td>\n",
       "      <td>0.947544</td>\n",
       "    </tr>\n",
       "    <tr>\n",
       "      <th>7</th>\n",
       "      <td>NR MDTVSFA</td>\n",
       "      <td>0.926554</td>\n",
       "      <td>0.930136</td>\n",
       "      <td>0.933550</td>\n",
       "    </tr>\n",
       "    <tr>\n",
       "      <th>8</th>\n",
       "      <td>NR SPAQ MT-S</td>\n",
       "      <td>0.905668</td>\n",
       "      <td>0.912237</td>\n",
       "      <td>0.918369</td>\n",
       "    </tr>\n",
       "    <tr>\n",
       "      <th>9</th>\n",
       "      <td>NR SPAQ BL</td>\n",
       "      <td>0.904981</td>\n",
       "      <td>0.911965</td>\n",
       "      <td>0.918458</td>\n",
       "    </tr>\n",
       "    <tr>\n",
       "      <th>10</th>\n",
       "      <td>NR SPAQ MT-A</td>\n",
       "      <td>0.904655</td>\n",
       "      <td>0.911947</td>\n",
       "      <td>0.918706</td>\n",
       "    </tr>\n",
       "    <tr>\n",
       "      <th>11</th>\n",
       "      <td>NR LINEARITY</td>\n",
       "      <td>0.899041</td>\n",
       "      <td>0.905095</td>\n",
       "      <td>0.910804</td>\n",
       "    </tr>\n",
       "    <tr>\n",
       "      <th>12</th>\n",
       "      <td>NR PaQ-2-PiQ</td>\n",
       "      <td>0.893719</td>\n",
       "      <td>0.901027</td>\n",
       "      <td>0.907857</td>\n",
       "    </tr>\n",
       "    <tr>\n",
       "      <th>13</th>\n",
       "      <td>NR VSFA</td>\n",
       "      <td>0.885939</td>\n",
       "      <td>0.891351</td>\n",
       "      <td>0.896520</td>\n",
       "    </tr>\n",
       "    <tr>\n",
       "      <th>14</th>\n",
       "      <td>FR AVQT</td>\n",
       "      <td>0.881937</td>\n",
       "      <td>0.889365</td>\n",
       "      <td>0.896351</td>\n",
       "    </tr>\n",
       "    <tr>\n",
       "      <th>15</th>\n",
       "      <td>FR Y-VQM</td>\n",
       "      <td>0.870185</td>\n",
       "      <td>0.880635</td>\n",
       "      <td>0.890293</td>\n",
       "    </tr>\n",
       "    <tr>\n",
       "      <th>16</th>\n",
       "      <td>FR DISTS</td>\n",
       "      <td>0.865814</td>\n",
       "      <td>0.872681</td>\n",
       "      <td>0.879219</td>\n",
       "    </tr>\n",
       "    <tr>\n",
       "      <th>17</th>\n",
       "      <td>NR NIMA</td>\n",
       "      <td>0.859732</td>\n",
       "      <td>0.867772</td>\n",
       "      <td>0.875382</td>\n",
       "    </tr>\n",
       "    <tr>\n",
       "      <th>18</th>\n",
       "      <td>NR KonCept512</td>\n",
       "      <td>0.853321</td>\n",
       "      <td>0.860974</td>\n",
       "      <td>0.868255</td>\n",
       "    </tr>\n",
       "    <tr>\n",
       "      <th>19</th>\n",
       "      <td>FR GREED</td>\n",
       "      <td>0.781946</td>\n",
       "      <td>0.789602</td>\n",
       "      <td>0.797019</td>\n",
       "    </tr>\n",
       "    <tr>\n",
       "      <th>20</th>\n",
       "      <td>FR LPIPS</td>\n",
       "      <td>0.774253</td>\n",
       "      <td>0.786842</td>\n",
       "      <td>0.798809</td>\n",
       "    </tr>\n",
       "    <tr>\n",
       "      <th>21</th>\n",
       "      <td>FR DVQA</td>\n",
       "      <td>0.761509</td>\n",
       "      <td>0.774066</td>\n",
       "      <td>0.786043</td>\n",
       "    </tr>\n",
       "    <tr>\n",
       "      <th>22</th>\n",
       "      <td>NR VIDEVAL</td>\n",
       "      <td>0.700494</td>\n",
       "      <td>0.719369</td>\n",
       "      <td>0.737238</td>\n",
       "    </tr>\n",
       "    <tr>\n",
       "      <th>23</th>\n",
       "      <td>NR Y-NIQE</td>\n",
       "      <td>0.679151</td>\n",
       "      <td>0.700653</td>\n",
       "      <td>0.720954</td>\n",
       "    </tr>\n",
       "    <tr>\n",
       "      <th>24</th>\n",
       "      <td>FR FOV VIDEO</td>\n",
       "      <td>0.551232</td>\n",
       "      <td>0.565184</td>\n",
       "      <td>0.578820</td>\n",
       "    </tr>\n",
       "    <tr>\n",
       "      <th>25</th>\n",
       "      <td>NR MEON</td>\n",
       "      <td>0.533581</td>\n",
       "      <td>0.554031</td>\n",
       "      <td>0.573833</td>\n",
       "    </tr>\n",
       "  </tbody>\n",
       "</table>\n",
       "</div>"
      ],
      "text/plain": [
       "                Metric  CI Lower Bound  Mean Spearman Correlation  \\\n",
       "0     Subjective score        1.000000                   1.000000   \n",
       "1          FR YUV-PSNR        0.946132                   0.949262   \n",
       "2   FR YUV-VMAF (v061)        0.945291                   0.948397   \n",
       "3          FR YUV-SSIM        0.944828                   0.948206   \n",
       "4      FR YUV-VMAF NEG        0.944093                   0.947092   \n",
       "5        FR Y-VMAF NEG        0.942312                   0.945169   \n",
       "6     FR Y-VMAF (v061)        0.942036                   0.944856   \n",
       "7           NR MDTVSFA        0.926554                   0.930136   \n",
       "8         NR SPAQ MT-S        0.905668                   0.912237   \n",
       "9           NR SPAQ BL        0.904981                   0.911965   \n",
       "10        NR SPAQ MT-A        0.904655                   0.911947   \n",
       "11        NR LINEARITY        0.899041                   0.905095   \n",
       "12        NR PaQ-2-PiQ        0.893719                   0.901027   \n",
       "13             NR VSFA        0.885939                   0.891351   \n",
       "14             FR AVQT        0.881937                   0.889365   \n",
       "15            FR Y-VQM        0.870185                   0.880635   \n",
       "16            FR DISTS        0.865814                   0.872681   \n",
       "17             NR NIMA        0.859732                   0.867772   \n",
       "18       NR KonCept512        0.853321                   0.860974   \n",
       "19            FR GREED        0.781946                   0.789602   \n",
       "20            FR LPIPS        0.774253                   0.786842   \n",
       "21             FR DVQA        0.761509                   0.774066   \n",
       "22          NR VIDEVAL        0.700494                   0.719369   \n",
       "23           NR Y-NIQE        0.679151                   0.700653   \n",
       "24        FR FOV VIDEO        0.551232                   0.565184   \n",
       "25             NR MEON        0.533581                   0.554031   \n",
       "\n",
       "    CI Upper Bound  \n",
       "0         1.000000  \n",
       "1         0.952214  \n",
       "2         0.951330  \n",
       "3         0.951383  \n",
       "4         0.949934  \n",
       "5         0.947888  \n",
       "6         0.947544  \n",
       "7         0.933550  \n",
       "8         0.918369  \n",
       "9         0.918458  \n",
       "10        0.918706  \n",
       "11        0.910804  \n",
       "12        0.907857  \n",
       "13        0.896520  \n",
       "14        0.896351  \n",
       "15        0.890293  \n",
       "16        0.879219  \n",
       "17        0.875382  \n",
       "18        0.868255  \n",
       "19        0.797019  \n",
       "20        0.798809  \n",
       "21        0.786043  \n",
       "22        0.737238  \n",
       "23        0.720954  \n",
       "24        0.578820  \n",
       "25        0.573833  "
      ]
     },
     "execution_count": 9,
     "metadata": {},
     "output_type": "execute_result"
    }
   ],
   "source": [
    "d_final_correlation"
   ]
  },
  {
   "cell_type": "code",
   "execution_count": null,
   "metadata": {},
   "outputs": [],
   "source": []
  }
 ],
 "metadata": {
  "kernelspec": {
   "display_name": "Python 3",
   "language": "python",
   "name": "python3"
  },
  "language_info": {
   "codemirror_mode": {
    "name": "ipython",
    "version": 3
   },
   "file_extension": ".py",
   "mimetype": "text/x-python",
   "name": "python",
   "nbconvert_exporter": "python",
   "pygments_lexer": "ipython3",
   "version": "3.8.3"
  }
 },
 "nbformat": 4,
 "nbformat_minor": 4
}
